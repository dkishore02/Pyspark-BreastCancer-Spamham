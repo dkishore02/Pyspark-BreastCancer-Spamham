{
 "cells": [
  {
   "cell_type": "code",
   "execution_count": 1,
   "metadata": {},
   "outputs": [],
   "source": [
    "import warnings\n",
    "warnings.filterwarnings(\"ignore\", category=FutureWarning)"
   ]
  },
  {
   "cell_type": "code",
   "execution_count": null,
   "metadata": {},
   "outputs": [],
   "source": [
    "from pyspark.sql.functions import col, when\n",
    "import matplotlib.pyplot as plt\n",
    "from pyspark.ml.feature import StandardScaler\n",
    "from pyspark.ml.feature import VectorAssembler\n",
    "from pyspark.ml.classification import LogisticRegression,RandomForestClassifier, DecisionTreeClassifier \n",
    "import pandas as pd\n",
    "from sklearn.metrics import classification_report, confusion_matrix"
   ]
  },
  {
   "cell_type": "code",
   "execution_count": 3,
   "metadata": {},
   "outputs": [],
   "source": [
    "import findspark\n",
    "findspark.init()\n",
    "\n",
    "import pyspark # only run after findspark.init()\n",
    "from pyspark.sql import SparkSession\n",
    "spark = SparkSession.builder.getOrCreate()\n",
    "\n",
    "dataframe_mysql = spark.read.format(\"jdbc\").options(\n",
    "    url=\"jdbc:mysql://localhost:3306/BreastCancer\",\n",
    "    driver = \"com.mysql.jdbc.Driver\",\n",
    "    dbtable = \"mytable\",\n",
    "    user=\"root\",\n",
    "    password=\"8056\").load()"
   ]
  },
  {
   "cell_type": "code",
   "execution_count": 4,
   "metadata": {},
   "outputs": [
    {
     "data": {
      "text/plain": [
       "['id',\n",
       " 'diagnosis',\n",
       " 'radius_mean',\n",
       " 'texture_mean',\n",
       " 'perimeter_mean',\n",
       " 'area_mean',\n",
       " 'smoothness_mean',\n",
       " 'compactness_mean',\n",
       " 'concavity_mean',\n",
       " 'concave_points_mean',\n",
       " 'symmetry_mean',\n",
       " 'fractal_dimension_mean',\n",
       " 'radius_se',\n",
       " 'texture_se',\n",
       " 'perimeter_se',\n",
       " 'area_se',\n",
       " 'smoothness_se',\n",
       " 'compactness_se',\n",
       " 'concavity_se',\n",
       " 'concave_points_se',\n",
       " 'symmetry_se',\n",
       " 'fractal_dimension_se',\n",
       " 'radius_worst',\n",
       " 'texture_worst',\n",
       " 'perimeter_worst',\n",
       " 'area_worst',\n",
       " 'smoothness_worst',\n",
       " 'compactness_worst',\n",
       " 'concavity_worst',\n",
       " 'concave_points_worst',\n",
       " 'symmetry_worst',\n",
       " 'fractal_dimension_worst',\n",
       " 'FIELD33']"
      ]
     },
     "execution_count": 4,
     "metadata": {},
     "output_type": "execute_result"
    }
   ],
   "source": [
    "dataframe_mysql.columns"
   ]
  },
  {
   "cell_type": "code",
   "execution_count": 5,
   "metadata": {},
   "outputs": [
    {
     "data": {
      "text/plain": [
       "pyspark.sql.dataframe.DataFrame"
      ]
     },
     "execution_count": 5,
     "metadata": {},
     "output_type": "execute_result"
    }
   ],
   "source": [
    "type(dataframe_mysql)"
   ]
  },
  {
   "cell_type": "code",
   "execution_count": 6,
   "metadata": {},
   "outputs": [
    {
     "data": {
      "text/plain": [
       "DataFrame[id: int, diagnosis: string, radius_mean: decimal(5,3), texture_mean: decimal(5,2), perimeter_mean: decimal(5,2), area_mean: decimal(5,1), smoothness_mean: decimal(7,5), compactness_mean: decimal(7,5), concavity_mean: decimal(9,7), concave_points_mean: decimal(8,6), symmetry_mean: decimal(6,4), fractal_dimension_mean: decimal(7,5), radius_se: decimal(6,4), texture_se: decimal(6,4), perimeter_se: decimal(6,4), area_se: decimal(6,3), smoothness_se: decimal(8,6), compactness_se: decimal(8,6), concavity_se: decimal(9,7), concave_points_se: decimal(8,6), symmetry_se: decimal(8,6), fractal_dimension_se: decimal(9,7), radius_worst: decimal(5,3), texture_worst: decimal(5,2), perimeter_worst: decimal(5,2), area_worst: decimal(5,1), smoothness_worst: decimal(7,5), compactness_worst: decimal(7,5), concavity_worst: decimal(8,6), concave_points_worst: decimal(8,6), symmetry_worst: decimal(6,4), fractal_dimension_worst: decimal(7,5), FIELD33: string]"
      ]
     },
     "execution_count": 6,
     "metadata": {},
     "output_type": "execute_result"
    }
   ],
   "source": [
    "dataframe_mysql.na.drop()"
   ]
  },
  {
   "cell_type": "code",
   "execution_count": 7,
   "metadata": {},
   "outputs": [
    {
     "data": {
      "text/plain": [
       "569"
      ]
     },
     "execution_count": 7,
     "metadata": {},
     "output_type": "execute_result"
    }
   ],
   "source": [
    "dataframe_mysql.count()"
   ]
  },
  {
   "cell_type": "code",
   "execution_count": 8,
   "metadata": {},
   "outputs": [
    {
     "name": "stdout",
     "output_type": "stream",
     "text": [
      "+-----+---------+-----------+------------+--------------+---------+---------------+----------------+--------------+-------------------+-------------+----------------------+---------+----------+------------+-------+-------------+--------------+------------+-----------------+-----------+--------------------+------------+-------------+---------------+----------+----------------+-----------------+---------------+--------------------+--------------+-----------------------+-------+\n",
      "|   id|diagnosis|radius_mean|texture_mean|perimeter_mean|area_mean|smoothness_mean|compactness_mean|concavity_mean|concave_points_mean|symmetry_mean|fractal_dimension_mean|radius_se|texture_se|perimeter_se|area_se|smoothness_se|compactness_se|concavity_se|concave_points_se|symmetry_se|fractal_dimension_se|radius_worst|texture_worst|perimeter_worst|area_worst|smoothness_worst|compactness_worst|concavity_worst|concave_points_worst|symmetry_worst|fractal_dimension_worst|FIELD33|\n",
      "+-----+---------+-----------+------------+--------------+---------+---------------+----------------+--------------+-------------------+-------------+----------------------+---------+----------+------------+-------+-------------+--------------+------------+-----------------+-----------+--------------------+------------+-------------+---------------+----------+----------------+-----------------+---------------+--------------------+--------------+-----------------------+-------+\n",
      "| 8670|        1|     15.460|       19.48|        101.70|    748.9|        0.10920|         0.12230|     0.1466000|           0.080870|       0.1931|               0.05796|   0.4743|    0.7859|      3.0940| 48.310|     0.006240|      0.014840|   0.0281300|         0.010930|   0.013970|           0.0024610|      19.260|        26.00|         124.90|    1156.0|         0.15460|          0.23940|       0.379100|            0.151400|        0.2837|                0.08019|   null|\n",
      "| 8913|        0|     12.890|       13.12|         81.89|    515.9|        0.06955|         0.03729|     0.0226000|           0.011710|       0.1337|               0.05581|   0.1532|    0.4690|      1.1150| 12.680|     0.004731|      0.013450|   0.0165200|         0.005905|   0.016190|           0.0020810|      13.620|        15.54|          87.40|     577.0|         0.09616|          0.11470|       0.118600|            0.053660|        0.2309|                0.06915|   null|\n",
      "| 8915|        0|     14.960|       19.10|         97.03|    687.3|        0.08992|         0.09823|     0.0594000|           0.048190|       0.1879|               0.05852|   0.2877|    0.9480|      2.1710| 24.870|     0.005332|      0.021150|   0.0153600|         0.011870|   0.015220|           0.0028150|      16.250|        26.19|         109.10|     809.8|         0.13130|          0.30300|       0.180400|            0.148900|        0.2962|                0.08472|   null|\n",
      "| 9047|        0|     12.940|       16.17|         83.18|    507.6|        0.09879|         0.08836|     0.0329600|           0.023900|       0.1735|               0.06200|   0.1458|    0.9050|      0.9975| 11.360|     0.002887|      0.012850|   0.0161300|         0.007308|   0.018700|           0.0019720|      13.860|        23.02|          89.69|     580.9|         0.11720|          0.19580|       0.181000|            0.083880|        0.3297|                0.07834|   null|\n",
      "|85715|        1|     13.170|       18.66|         85.98|    534.6|        0.11580|         0.12310|     0.1226000|           0.073400|       0.2128|               0.06777|   0.2871|    0.8937|      1.8970| 24.250|     0.006532|      0.023360|   0.0290500|         0.012150|   0.017430|           0.0036430|      15.670|        27.95|         102.80|     759.4|         0.17860|          0.41660|       0.500600|            0.208800|        0.3900|                0.11790|   null|\n",
      "|86208|        1|     20.260|       23.03|        132.40|   1264.0|        0.09078|         0.13130|     0.1465000|           0.086830|       0.2095|               0.05649|   0.7576|    1.5090|      4.5540| 87.870|     0.006016|      0.034820|   0.0423200|         0.012690|   0.026570|           0.0044110|      24.220|        31.59|         156.10|    1750.0|         0.11900|          0.35390|       0.409800|            0.157300|        0.3689|                0.08368|   null|\n",
      "|86211|        0|     12.180|       17.84|         77.79|    451.1|        0.10450|         0.07057|     0.0249000|           0.029410|       0.1900|               0.06635|   0.3661|    1.5110|      2.4100| 24.440|     0.005433|      0.011790|   0.0113100|         0.015190|   0.022200|           0.0034080|      12.830|        20.92|          82.14|     495.2|         0.11400|          0.09358|       0.049800|            0.058820|        0.2227|                0.07376|   null|\n",
      "|86355|        1|     22.270|       19.67|        152.80|   1509.0|        0.13260|         0.27680|     0.4264000|           0.182300|       0.2556|               0.07039|   1.2150|    1.5450|     10.0500|170.000|     0.006515|      0.086680|   0.1040000|         0.024800|   0.031120|           0.0050370|      28.400|        28.01|         206.80|    2360.0|         0.17010|          0.69970|       0.960800|            0.291000|        0.4055|                0.09789|   null|\n",
      "|86408|        0|     12.630|       20.76|         82.15|    480.4|        0.09933|         0.12090|     0.1065000|           0.060210|       0.1735|               0.07070|   0.3424|    1.8030|      2.7110| 20.480|     0.012910|      0.040420|   0.0510100|         0.022950|   0.021440|           0.0058910|      13.330|        25.47|          89.00|     527.4|         0.12870|          0.22500|       0.221600|            0.110500|        0.2226|                0.08486|   null|\n",
      "|86409|        0|     14.260|       19.65|         97.83|    629.9|        0.07837|         0.22330|     0.3003000|           0.077980|       0.1704|               0.07769|   0.3628|    1.4900|      3.3990| 29.250|     0.005298|      0.074460|   0.1435000|         0.022920|   0.025660|           0.0129800|      15.300|        23.73|         107.00|     709.0|         0.08949|          0.41930|       0.678300|            0.150500|        0.2398|                0.10820|   null|\n",
      "|86517|        1|     18.660|       17.12|        121.40|   1077.0|        0.10540|         0.11000|     0.1457000|           0.086650|       0.1966|               0.06213|   0.7128|    1.5810|      4.8950| 90.470|     0.008102|      0.021010|   0.0334200|         0.016010|   0.020450|           0.0045700|      22.250|        24.90|         145.40|    1549.0|         0.15030|          0.22910|       0.327200|            0.167400|        0.2894|                0.08456|   null|\n",
      "|86561|        0|     13.850|       17.21|         88.44|    588.7|        0.08785|         0.06136|     0.0142000|           0.011410|       0.1614|               0.05890|   0.2185|    0.8561|      1.4950| 17.910|     0.004599|      0.009169|   0.0091270|         0.004814|   0.012470|           0.0017080|      15.490|        23.58|         100.30|     725.9|         0.11570|          0.13500|       0.081150|            0.051040|        0.2364|                0.07182|   null|\n",
      "|87106|        0|     11.150|       13.08|         70.87|    381.9|        0.09754|         0.05113|     0.0198200|           0.017860|       0.1830|               0.06105|   0.2251|    0.7815|      1.4290| 15.480|     0.009019|      0.008985|   0.0119600|         0.008232|   0.023880|           0.0016190|      11.990|        16.30|          76.25|     440.8|         0.13410|          0.08971|       0.071160|            0.055060|        0.2859|                0.06772|   null|\n",
      "|87127|        0|     10.800|        9.71|         68.77|    357.6|        0.09594|         0.05736|     0.0253100|           0.016980|       0.1381|               0.06400|   0.1728|    0.4064|      1.1260| 11.480|     0.007809|      0.009816|   0.0109900|         0.005344|   0.012540|           0.0021200|      11.600|        12.02|          73.66|     414.0|         0.14360|          0.12570|       0.104700|            0.046030|        0.2090|                0.07699|   null|\n",
      "|87163|        1|     13.430|       19.63|         85.84|    565.4|        0.09048|         0.06288|     0.0585800|           0.034380|       0.1598|               0.05671|   0.4697|    1.1470|      3.1420| 43.400|     0.006003|      0.010630|   0.0215100|         0.009443|   0.015200|           0.0018680|      17.980|        29.87|         116.60|     993.6|         0.14010|          0.15460|       0.264400|            0.116000|        0.2884|                0.07371|   null|\n",
      "|87164|        1|     15.460|       11.89|        102.50|    736.9|        0.12570|         0.15550|     0.2032000|           0.109700|       0.1966|               0.07069|   0.4209|    0.6583|      2.8050| 44.640|     0.005393|      0.023210|   0.0430300|         0.013200|   0.017920|           0.0041680|      18.790|        17.04|         125.00|    1102.0|         0.15310|          0.35830|       0.583000|            0.182700|        0.3216|                0.10100|   null|\n",
      "|87880|        1|     13.810|       23.75|         91.56|    597.8|        0.13230|         0.17680|     0.1558000|           0.091760|       0.2251|               0.07421|   0.5648|    1.9300|      3.9090| 52.720|     0.008824|      0.031080|   0.0311200|         0.012910|   0.019980|           0.0045060|      19.200|        41.85|         128.50|    1153.0|         0.22260|          0.52090|       0.464600|            0.201300|        0.4432|                0.10860|   null|\n",
      "|87930|        0|     12.470|       18.60|         81.09|    481.9|        0.09965|         0.10580|     0.0800500|           0.038210|       0.1925|               0.06373|   0.3961|    1.0440|      2.4970| 30.290|     0.006953|      0.019110|   0.0270100|         0.010370|   0.017820|           0.0035860|      14.970|        24.64|          96.05|     677.9|         0.14260|          0.23780|       0.267100|            0.101500|        0.3014|                0.08750|   null|\n",
      "|89122|        1|     19.400|       18.18|        127.20|   1145.0|        0.10370|         0.14420|     0.1626000|           0.094640|       0.1893|               0.05892|   0.4709|    0.9951|      2.9030| 53.160|     0.005654|      0.021990|   0.0305900|         0.014990|   0.016230|           0.0019650|      23.790|        28.65|         152.40|    1628.0|         0.15180|          0.37490|       0.431600|            0.225200|        0.3590|                0.07787|   null|\n",
      "|89296|        0|     11.460|       18.16|         73.59|    403.1|        0.08853|         0.07694|     0.0334400|           0.015020|       0.1411|               0.06243|   0.3278|    1.0590|      2.4750| 22.930|     0.006652|      0.026520|   0.0222100|         0.007807|   0.018940|           0.0034110|      12.680|        21.61|          82.69|     489.8|         0.11440|          0.17890|       0.122600|            0.055090|        0.2208|                0.07638|   null|\n",
      "+-----+---------+-----------+------------+--------------+---------+---------------+----------------+--------------+-------------------+-------------+----------------------+---------+----------+------------+-------+-------------+--------------+------------+-----------------+-----------+--------------------+------------+-------------+---------------+----------+----------------+-----------------+---------------+--------------------+--------------+-----------------------+-------+\n",
      "only showing top 20 rows\n",
      "\n"
     ]
    }
   ],
   "source": [
    "dataframe_mysql = dataframe_mysql.withColumn(\"diagnosis\", when(col(\"diagnosis\") == \"M\", 1).otherwise(0))\n",
    "dataframe_mysql.show()"
   ]
  },
  {
   "cell_type": "code",
   "execution_count": 9,
   "metadata": {},
   "outputs": [
    {
     "name": "stdout",
     "output_type": "stream",
     "text": [
      "212 malignant\n",
      "357 otherwise\n"
     ]
    }
   ],
   "source": [
    "dataframe_mysql.filter(dataframe_mysql['diagnosis'] == 1).select('diagnosis').count()\n",
    "print(dataframe_mysql.filter(dataframe_mysql['diagnosis'] == 1).select('diagnosis').count(), \"malignant\", sep=\" \")\n",
    "print(dataframe_mysql.filter(dataframe_mysql['diagnosis'] == 0).select('diagnosis').count(), \"otherwise\", sep=\" \")"
   ]
  },
  {
   "cell_type": "code",
   "execution_count": 10,
   "metadata": {},
   "outputs": [
    {
     "data": {
      "image/png": "[encoded data removed]",
      "text/plain": [
       "<Figure size 432x288 with 1 Axes>"
      ]
     },
     "metadata": {},
     "output_type": "display_data"
    }
   ],
   "source": [
    "labels = ['Benign', 'Malignant']\n",
    "sizes = [dataframe_mysql.filter(dataframe_mysql['diagnosis'] == 0).select('diagnosis').count(), dataframe_mysql.filter(dataframe_mysql['diagnosis'] == 1).select('diagnosis').count()]\n",
    "colors = ['#ff9999','#66b3ff']\n",
    "explode = (0.05,0.05)\n",
    "\n",
    "plt.pie(sizes, colors = colors, labels=labels, autopct='%.1f%%', startangle=90, pctdistance=0.85, explode = explode)\n",
    "centre_circle = plt.Circle((0,0),0.70,fc='white')\n",
    "fig = plt.gcf()\n",
    "fig.gca().add_artist(centre_circle)\n",
    "plt.tight_layout()\n",
    "plt.show()"
   ]
  },
  {
   "cell_type": "code",
   "execution_count": 11,
   "metadata": {},
   "outputs": [
    {
     "name": "stdout",
     "output_type": "stream",
     "text": [
      "+-------+--------------------+-------------------+-----------------+-----------------+----------------+-----------------+--------------------+-------------------+-------------------+--------------------+--------------------+----------------------+-----------------+------------------+-----------------+------------------+--------------------+--------------------+-------------------+-------------------+--------------------+--------------------+-----------------+-----------------+------------------+-----------------+--------------------+------------------+------------------+--------------------+-------------------+-----------------------+-------+\n",
      "|summary|                  id|          diagnosis|      radius_mean|     texture_mean|  perimeter_mean|        area_mean|     smoothness_mean|   compactness_mean|     concavity_mean| concave_points_mean|       symmetry_mean|fractal_dimension_mean|        radius_se|        texture_se|     perimeter_se|           area_se|       smoothness_se|      compactness_se|       concavity_se|  concave_points_se|         symmetry_se|fractal_dimension_se|     radius_worst|    texture_worst|   perimeter_worst|       area_worst|    smoothness_worst| compactness_worst|   concavity_worst|concave_points_worst|     symmetry_worst|fractal_dimension_worst|FIELD33|\n",
      "+-------+--------------------+-------------------+-----------------+-----------------+----------------+-----------------+--------------------+-------------------+-------------------+--------------------+--------------------+----------------------+-----------------+------------------+-----------------+------------------+--------------------+--------------------+-------------------+-------------------+--------------------+--------------------+-----------------+-----------------+------------------+-----------------+--------------------+------------------+------------------+--------------------+-------------------+-----------------------+-------+\n",
      "|  count|                 569|                569|              569|              569|             569|              569|                 569|                569|                569|                 569|                 569|                   569|              569|               569|              569|               569|                 569|                 569|                569|                569|                 569|                 569|              569|              569|               569|              569|                 569|               569|               569|                 569|                569|                    569|      0|\n",
      "|   mean|3.0371831432337433E7|0.37258347978910367|       14.1272917|        19.289649|       91.969033|        654.88910|         0.096360281|        0.104340984|      0.08879931582|        0.0489191459|          0.18116186|           0.062797610|       0.40517206|        1.21685343|       2.86605923|        40.3370791|        0.0070409789|        0.0254781388|      0.03189371634|       0.0117961371|        0.0205422988|       0.00379490387|       16.2691898|        25.677223|        107.261213|        880.58313|         0.132368594|       0.254265044|      0.2721884833|        0.1146062232|         0.29007557|            0.083945817|   null|\n",
      "| stddev|1.2502058561222365E8|0.48391795640316826|3.524048826212078|4.301035768166952|24.2989810387549|351.9141291816531|0.014064128137673618|0.05281275793251223|0.07971980870789348|0.038802844859153626|0.027414281336035712|  0.007060362795084459|0.277312732986104|0.5516483926172021|2.021854554042108|45.491005516131814|0.003002517943839067|0.017908179325677395|0.03018606032298841|0.00617028517404687|0.008266371528798397|0.002646070967089195|4.833241580469322|6.146257623038317|33.602542269036356|569.3569926699492|0.022832429404835465|0.1573364889137419|0.2086242806081323| 0.06573234119594207|0.06186746753751867|   0.018061267348893996|   null|\n",
      "|    min|                8670|                  0|            6.981|             9.71|           43.79|            143.5|             0.05263|            0.01938|               0E-7|            0.000000|              0.1060|               0.04996|           0.1115|            0.3602|           0.7570|             6.802|            0.001713|            0.002252|               0E-7|           0.000000|            0.007882|           0.0008948|            7.930|            12.02|             50.41|            185.2|             0.07117|           0.02729|          0.000000|            0.000000|             0.1565|                0.05504|   null|\n",
      "|    max|           911320502|                  1|           28.110|            39.28|          188.50|           2501.0|             0.16340|            0.34540|          0.4268000|            0.201200|              0.3040|               0.09744|           2.8730|            4.8850|          21.9800|           542.200|            0.031130|            0.135400|          0.3960000|           0.052790|            0.078950|           0.0298400|           36.040|            49.54|            251.20|           4254.0|             0.22260|           1.05800|          1.252000|            0.291000|             0.6638|                0.20750|   null|\n",
      "+-------+--------------------+-------------------+-----------------+-----------------+----------------+-----------------+--------------------+-------------------+-------------------+--------------------+--------------------+----------------------+-----------------+------------------+-----------------+------------------+--------------------+--------------------+-------------------+-------------------+--------------------+--------------------+-----------------+-----------------+------------------+-----------------+--------------------+------------------+------------------+--------------------+-------------------+-----------------------+-------+\n",
      "\n",
      "None\n"
     ]
    }
   ],
   "source": [
    "print(dataframe_mysql.describe().show())"
   ]
  },
  {
   "cell_type": "code",
   "execution_count": 12,
   "metadata": {},
   "outputs": [
    {
     "data": {
      "text/plain": [
       "0"
      ]
     },
     "execution_count": 12,
     "metadata": {},
     "output_type": "execute_result"
    }
   ],
   "source": [
    "dataframe_mysql.dropna().count()"
   ]
  },
  {
   "cell_type": "code",
   "execution_count": 13,
   "metadata": {},
   "outputs": [
    {
     "name": "stdout",
     "output_type": "stream",
     "text": [
      "['texture_mean', 'perimeter_mean', 'area_mean', 'smoothness_mean', 'compactness_mean', 'concavity_mean', 'concave_points_mean', 'symmetry_mean', 'fractal_dimension_mean', 'radius_se', 'texture_se', 'perimeter_se', 'area_se', 'smoothness_se', 'compactness_se', 'concavity_se', 'concave_points_se', 'symmetry_se', 'fractal_dimension_se', 'radius_worst', 'texture_worst', 'perimeter_worst', 'area_worst', 'smoothness_worst', 'compactness_worst', 'concavity_worst', 'concave_points_worst', 'symmetry_worst', 'fractal_dimension_worst']\n"
     ]
    }
   ],
   "source": [
    "print(dataframe_mysql.columns[3:-1])"
   ]
  },
  {
   "cell_type": "code",
   "execution_count": 14,
   "metadata": {},
   "outputs": [
    {
     "name": "stdout",
     "output_type": "stream",
     "text": [
      "+-----+---------+-----------+------------+--------------+---------+---------------+----------------+--------------+-------------------+-------------+----------------------+---------+----------+------------+-------+-------------+--------------+------------+-----------------+-----------+--------------------+------------+-------------+---------------+----------+----------------+-----------------+---------------+--------------------+--------------+-----------------------+-------+--------------------+\n",
      "|   id|diagnosis|radius_mean|texture_mean|perimeter_mean|area_mean|smoothness_mean|compactness_mean|concavity_mean|concave_points_mean|symmetry_mean|fractal_dimension_mean|radius_se|texture_se|perimeter_se|area_se|smoothness_se|compactness_se|concavity_se|concave_points_se|symmetry_se|fractal_dimension_se|radius_worst|texture_worst|perimeter_worst|area_worst|smoothness_worst|compactness_worst|concavity_worst|concave_points_worst|symmetry_worst|fractal_dimension_worst|FIELD33|            features|\n",
      "+-----+---------+-----------+------------+--------------+---------+---------------+----------------+--------------+-------------------+-------------+----------------------+---------+----------+------------+-------+-------------+--------------+------------+-----------------+-----------+--------------------+------------+-------------+---------------+----------+----------------+-----------------+---------------+--------------------+--------------+-----------------------+-------+--------------------+\n",
      "| 8670|        1|     15.460|       19.48|        101.70|    748.9|        0.10920|         0.12230|     0.1466000|           0.080870|       0.1931|               0.05796|   0.4743|    0.7859|      3.0940| 48.310|     0.006240|      0.014840|   0.0281300|         0.010930|   0.013970|           0.0024610|      19.260|        26.00|         124.90|    1156.0|         0.15460|          0.23940|       0.379100|            0.151400|        0.2837|                0.08019|   null|[19.48,101.7,748....|\n",
      "| 8913|        0|     12.890|       13.12|         81.89|    515.9|        0.06955|         0.03729|     0.0226000|           0.011710|       0.1337|               0.05581|   0.1532|    0.4690|      1.1150| 12.680|     0.004731|      0.013450|   0.0165200|         0.005905|   0.016190|           0.0020810|      13.620|        15.54|          87.40|     577.0|         0.09616|          0.11470|       0.118600|            0.053660|        0.2309|                0.06915|   null|[13.12,81.89,515....|\n",
      "| 8915|        0|     14.960|       19.10|         97.03|    687.3|        0.08992|         0.09823|     0.0594000|           0.048190|       0.1879|               0.05852|   0.2877|    0.9480|      2.1710| 24.870|     0.005332|      0.021150|   0.0153600|         0.011870|   0.015220|           0.0028150|      16.250|        26.19|         109.10|     809.8|         0.13130|          0.30300|       0.180400|            0.148900|        0.2962|                0.08472|   null|[19.1,97.03,687.3...|\n",
      "| 9047|        0|     12.940|       16.17|         83.18|    507.6|        0.09879|         0.08836|     0.0329600|           0.023900|       0.1735|               0.06200|   0.1458|    0.9050|      0.9975| 11.360|     0.002887|      0.012850|   0.0161300|         0.007308|   0.018700|           0.0019720|      13.860|        23.02|          89.69|     580.9|         0.11720|          0.19580|       0.181000|            0.083880|        0.3297|                0.07834|   null|[16.17,83.18,507....|\n",
      "|85715|        1|     13.170|       18.66|         85.98|    534.6|        0.11580|         0.12310|     0.1226000|           0.073400|       0.2128|               0.06777|   0.2871|    0.8937|      1.8970| 24.250|     0.006532|      0.023360|   0.0290500|         0.012150|   0.017430|           0.0036430|      15.670|        27.95|         102.80|     759.4|         0.17860|          0.41660|       0.500600|            0.208800|        0.3900|                0.11790|   null|[18.66,85.98,534....|\n",
      "+-----+---------+-----------+------------+--------------+---------+---------------+----------------+--------------+-------------------+-------------+----------------------+---------+----------+------------+-------+-------------+--------------+------------+-----------------+-----------+--------------------+------------+-------------+---------------+----------+----------------+-----------------+---------------+--------------------+--------------+-----------------------+-------+--------------------+\n",
      "only showing top 5 rows\n",
      "\n"
     ]
    }
   ],
   "source": [
    "\n",
    "selected_features = dataframe_mysql.select(\n",
    "                                'texture_mean', 'perimeter_mean', 'area_mean', 'smoothness_mean', 'compactness_mean', 'concavity_mean', 'concave_points_mean', 'symmetry_mean', 'fractal_dimension_mean', 'radius_se', 'texture_se', 'perimeter_se', 'area_se', 'smoothness_se', 'compactness_se', 'concavity_se', 'concave_points_se', 'symmetry_se', 'fractal_dimension_se', 'radius_worst', 'texture_worst', 'perimeter_worst', 'area_worst', 'smoothness_worst', 'compactness_worst', 'concavity_worst', 'concave_points_worst', 'symmetry_worst', 'fractal_dimension_worst')\n",
    "\n",
    "assembler = VectorAssembler(inputCols=selected_features.columns,\n",
    "                           outputCol='features',\n",
    "                           handleInvalid='skip')\n",
    "dataframe_mysql= assembler.transform(dataframe_mysql)\n",
    "dataframe_mysql.show(5)"
   ]
  },
  {
   "cell_type": "code",
   "execution_count": 15,
   "metadata": {},
   "outputs": [],
   "source": [
    "scaler1 = StandardScaler(inputCol=\"features\", outputCol=\"scaledFeatures\", withStd=True, withMean=True)\n"
   ]
  },
  {
   "cell_type": "code",
   "execution_count": 16,
   "metadata": {},
   "outputs": [],
   "source": [
    "scale_data = scaler1.fit(dataframe_mysql).transform(dataframe_mysql)"
   ]
  },
  {
   "cell_type": "code",
   "execution_count": 17,
   "metadata": {},
   "outputs": [
    {
     "name": "stdout",
     "output_type": "stream",
     "text": [
      "['id', 'diagnosis', 'radius_mean', 'texture_mean', 'perimeter_mean', 'area_mean', 'smoothness_mean', 'compactness_mean', 'concavity_mean', 'concave_points_mean', 'symmetry_mean', 'fractal_dimension_mean', 'radius_se', 'texture_se', 'perimeter_se', 'area_se', 'smoothness_se', 'compactness_se', 'concavity_se', 'concave_points_se', 'symmetry_se', 'fractal_dimension_se', 'radius_worst', 'texture_worst', 'perimeter_worst', 'area_worst', 'smoothness_worst', 'compactness_worst', 'concavity_worst', 'concave_points_worst', 'symmetry_worst', 'fractal_dimension_worst', 'FIELD33', 'features', 'scaledFeatures']\n"
     ]
    }
   ],
   "source": [
    "print(scale_data.columns)"
   ]
  },
  {
   "cell_type": "code",
   "execution_count": 18,
   "metadata": {},
   "outputs": [],
   "source": [
    "\n",
    "train_df, test_df = scale_data.select('id', 'diagnosis','scaledFeatures').randomSplit([0.8,0.2], seed=140)"
   ]
  },
  {
   "cell_type": "code",
   "execution_count": 19,
   "metadata": {},
   "outputs": [
    {
     "data": {
      "text/plain": [
       "456"
      ]
     },
     "execution_count": 19,
     "metadata": {},
     "output_type": "execute_result"
    }
   ],
   "source": [
    "train_df.count()"
   ]
  },
  {
   "cell_type": "code",
   "execution_count": 20,
   "metadata": {},
   "outputs": [
    {
     "data": {
      "text/plain": [
       "113"
      ]
     },
     "execution_count": 20,
     "metadata": {},
     "output_type": "execute_result"
    }
   ],
   "source": [
    "test_df.count()"
   ]
  },
  {
   "cell_type": "code",
   "execution_count": 21,
   "metadata": {},
   "outputs": [
    {
     "name": "stdout",
     "output_type": "stream",
     "text": [
      "+-----+---------+--------------------+\n",
      "|   id|diagnosis|      scaledFeatures|\n",
      "+-----+---------+--------------------+\n",
      "| 8915|        0|[-0.0440936826321...|\n",
      "| 9047|        0|[-0.7253249389927...|\n",
      "|85715|        1|[-0.1463946221538...|\n",
      "|86208|        1|[0.86963970900501...|\n",
      "|86355|        1|[0.08843253447552...|\n",
      "+-----+---------+--------------------+\n",
      "only showing top 5 rows\n",
      "\n"
     ]
    }
   ],
   "source": [
    "train_df.show(5)"
   ]
  },
  {
   "cell_type": "code",
   "execution_count": 22,
   "metadata": {},
   "outputs": [],
   "source": [
    "# train_df = train_df.drop('id')\n",
    "# test_df = test_df.drop('id')"
   ]
  },
  {
   "cell_type": "code",
   "execution_count": 23,
   "metadata": {},
   "outputs": [
    {
     "name": "stdout",
     "output_type": "stream",
     "text": [
      "+-----+---------+--------------------+\n",
      "|   id|diagnosis|      scaledFeatures|\n",
      "+-----+---------+--------------------+\n",
      "| 8915|        0|[-0.0440936826321...|\n",
      "| 9047|        0|[-0.7253249389927...|\n",
      "|85715|        1|[-0.1463946221538...|\n",
      "|86208|        1|[0.86963970900501...|\n",
      "|86355|        1|[0.08843253447552...|\n",
      "+-----+---------+--------------------+\n",
      "only showing top 5 rows\n",
      "\n"
     ]
    }
   ],
   "source": [
    "train_df.show(5)"
   ]
  },
  {
   "cell_type": "code",
   "execution_count": 24,
   "metadata": {},
   "outputs": [],
   "source": [
    "\n",
    "lr = LogisticRegression(featuresCol = 'scaledFeatures', labelCol = 'diagnosis')\n",
    "lr_model = lr.fit(train_df)\n",
    "# predictionslr = lr.train(test_df)"
   ]
  },
  {
   "cell_type": "code",
   "execution_count": 25,
   "metadata": {},
   "outputs": [
    {
     "name": "stdout",
     "output_type": "stream",
     "text": [
      "+-----+---------+--------------------+--------------------+-----------+----------+\n",
      "|   id|diagnosis|      scaledFeatures|       rawPrediction|probability|prediction|\n",
      "+-----+---------+--------------------+--------------------+-----------+----------+\n",
      "| 8670|        1|[0.04425712877296...|[-5580.0381502201...|  [0.0,1.0]|       1.0|\n",
      "| 8913|        0|[-1.4344564515864...|[7396.46007775784...|  [1.0,0.0]|       0.0|\n",
      "|86211|        0|[-0.3370463730807...|[4810.50688794197...|  [1.0,0.0]|       0.0|\n",
      "|87127|        0|[-2.2272887328797...|[7444.88543401125...|  [1.0,0.0]|       0.0|\n",
      "|87930|        0|[-0.1603447502704...|[314.315431065042...|  [1.0,0.0]|       0.0|\n",
      "+-----+---------+--------------------+--------------------+-----------+----------+\n",
      "only showing top 5 rows\n",
      "\n"
     ]
    }
   ],
   "source": [
    "lr_model.transform(test_df).show(5)\n"
   ]
  },
  {
   "cell_type": "code",
   "execution_count": 26,
   "metadata": {},
   "outputs": [],
   "source": [
    "predictionslr = lr_model.transform(test_df)"
   ]
  },
  {
   "cell_type": "code",
   "execution_count": 27,
   "metadata": {},
   "outputs": [],
   "source": [
    "\n",
    "lrpredictB = predictionslr[predictionslr.prediction==0].toPandas()\n",
    "lrpredictM = predictionslr[predictionslr.prediction==1].toPandas()"
   ]
  },
  {
   "cell_type": "code",
   "execution_count": 28,
   "metadata": {},
   "outputs": [
    {
     "name": "stdout",
     "output_type": "stream",
     "text": [
      "-- Logistic Regression --\n",
      "------------------------------------------------------------------------\n",
      "Classification Report\n",
      "               precision    recall  f1-score   support\n",
      "\n",
      "           0       0.97      0.96      0.97        76\n",
      "           1       0.92      0.95      0.93        37\n",
      "\n",
      "    accuracy                           0.96       113\n",
      "   macro avg       0.95      0.95      0.95       113\n",
      "weighted avg       0.96      0.96      0.96       113\n",
      "\n",
      "------------------------------------------------------------------------\n",
      "Confusion matrix\n",
      " [[73  3]\n",
      " [ 2 35]] \n",
      "\n",
      "\n"
     ]
    }
   ],
   "source": [
    "result = pd.concat([lrpredictB,lrpredictM])\n",
    "true_labels=(test_df.orderBy(\"id\").select(\"diagnosis\")).toPandas()\n",
    "predicted_labels=result.sort_values(\"id\")[\"prediction\"]\n",
    "\n",
    "print(\"-- Logistic Regression --\")\n",
    "print(\"------------------------------------------------------------------------\")\n",
    "print(\"Classification Report\\n\",classification_report(true_labels, predicted_labels))\n",
    "print(\"------------------------------------------------------------------------\")\n",
    "print(\"Confusion matrix\\n\",confusion_matrix(true_labels,predicted_labels),\"\\n\\n\")\n",
    "LR=confusion_matrix(true_labels,predicted_labels)"
   ]
  },
  {
   "cell_type": "code",
   "execution_count": 29,
   "metadata": {},
   "outputs": [],
   "source": [
    "dc = DecisionTreeClassifier(featuresCol = 'scaledFeatures', labelCol = 'diagnosis')\n",
    "dc_model = dc.fit(train_df)\n",
    "predictionsdc = dc_model.transform(test_df)"
   ]
  },
  {
   "cell_type": "code",
   "execution_count": 30,
   "metadata": {},
   "outputs": [],
   "source": [
    "\n",
    "dcpredictB = predictionsdc[predictionsdc.prediction==0].toPandas()\n",
    "dcpredictM = predictionsdc[predictionsdc.prediction==1].toPandas()"
   ]
  },
  {
   "cell_type": "code",
   "execution_count": 31,
   "metadata": {},
   "outputs": [
    {
     "name": "stdout",
     "output_type": "stream",
     "text": [
      "-- Decision Tree Classifier --\n",
      "------------------------------------------------------------------------\n",
      "Classification Report\n",
      "               precision    recall  f1-score   support\n",
      "\n",
      "           0       0.97      0.95      0.96        76\n",
      "           1       0.90      0.95      0.92        37\n",
      "\n",
      "    accuracy                           0.95       113\n",
      "   macro avg       0.94      0.95      0.94       113\n",
      "weighted avg       0.95      0.95      0.95       113\n",
      "\n",
      "------------------------------------------------------------------------\n",
      "Confusion matrix\n",
      " [[72  4]\n",
      " [ 2 35]] \n",
      "\n",
      "\n"
     ]
    }
   ],
   "source": [
    "result = pd.concat([dcpredictB,dcpredictM])\n",
    "true_labels=(test_df.orderBy(\"id\").select(\"diagnosis\")).toPandas()\n",
    "predicted_labels=result.sort_values(\"id\")[\"prediction\"]\n",
    "\n",
    "print(\"-- Decision Tree Classifier --\")\n",
    "print(\"------------------------------------------------------------------------\")\n",
    "print(\"Classification Report\\n\",classification_report(true_labels, predicted_labels))\n",
    "print(\"------------------------------------------------------------------------\")\n",
    "print(\"Confusion matrix\\n\",confusion_matrix(true_labels,predicted_labels),\"\\n\\n\")\n",
    "DC=confusion_matrix(true_labels,predicted_labels)"
   ]
  },
  {
   "cell_type": "code",
   "execution_count": 32,
   "metadata": {},
   "outputs": [],
   "source": [
    "rfc = RandomForestClassifier(featuresCol = 'scaledFeatures', labelCol = 'diagnosis')\n",
    "rfc_model = rfc.fit(train_df)\n",
    "predictionsrfc = rfc_model.transform(test_df)"
   ]
  },
  {
   "cell_type": "code",
   "execution_count": 33,
   "metadata": {},
   "outputs": [],
   "source": [
    "\n",
    "rfccpredictB = predictionsrfc[predictionsrfc.prediction==0].toPandas()\n",
    "rfccpredictM = predictionsrfc[predictionsrfc.prediction==1].toPandas()"
   ]
  },
  {
   "cell_type": "code",
   "execution_count": 34,
   "metadata": {},
   "outputs": [
    {
     "name": "stdout",
     "output_type": "stream",
     "text": [
      "-- Random Forest Classifier --\n",
      "------------------------------------------------------------------------\n",
      "Classification Report\n",
      "               precision    recall  f1-score   support\n",
      "\n",
      "           0       0.96      0.99      0.97        76\n",
      "           1       0.97      0.92      0.94        37\n",
      "\n",
      "    accuracy                           0.96       113\n",
      "   macro avg       0.97      0.95      0.96       113\n",
      "weighted avg       0.96      0.96      0.96       113\n",
      "\n",
      "------------------------------------------------------------------------\n",
      "Confusion matrix\n",
      " [[75  1]\n",
      " [ 3 34]] \n",
      "\n",
      "\n"
     ]
    }
   ],
   "source": [
    "result = pd.concat([rfccpredictB,rfccpredictM])\n",
    "true_labels=(test_df.orderBy(\"id\").select(\"diagnosis\")).toPandas()\n",
    "predicted_labels=result.sort_values(\"id\")[\"prediction\"]\n",
    "\n",
    "print(\"-- Random Forest Classifier --\")\n",
    "print(\"------------------------------------------------------------------------\")\n",
    "print(\"Classification Report\\n\",classification_report(true_labels, predicted_labels))\n",
    "print(\"------------------------------------------------------------------------\")\n",
    "print(\"Confusion matrix\\n\",confusion_matrix(true_labels,predicted_labels),\"\\n\\n\")\n",
    "DC=confusion_matrix(true_labels,predicted_labels)"
   ]
  },
  {
   "cell_type": "code",
   "execution_count": 35,
   "metadata": {},
   "outputs": [],
   "source": [
    "from pandas_profiling import ProfileReport\n",
    "\n",
    "profile = ProfileReport(dataframe_mysql.toPandas())"
   ]
  },
  {
   "cell_type": "code",
   "execution_count": 38,
   "metadata": {},
   "outputs": [
    {
     "data": {
      "application/vnd.jupyter.widget-view+json": {
       "model_id": "feaff85cb43c4b4b81a3bf73b60d47d2",
       "version_major": 2,
       "version_minor": 0
      },
      "text/plain": [
       "Export report to file:   0%|          | 0/1 [00:00<?, ?it/s]"
      ]
     },
     "metadata": {},
     "output_type": "display_data"
    }
   ],
   "source": [
    "profile.to_file(\"output.html\")"
   ]
  },
  {
   "cell_type": "code",
   "execution_count": null,
   "metadata": {},
   "outputs": [],
   "source": []
  }
 ],
 "metadata": {
  "kernelspec": {
   "display_name": "Python 3.10.4 ('cv_research')",
   "language": "python",
   "name": "python3"
  },
  "language_info": {
   "codemirror_mode": {
    "name": "ipython",
    "version": 3
   },
   "file_extension": ".py",
   "mimetype": "text/x-python",
   "name": "python",
   "nbconvert_exporter": "python",
   "pygments_lexer": "ipython3",
   "version": "3.10.4"
  },
  "vscode": {
   "interpreter": {
    "hash": "13c8c474f6f5723e4d25e0ac5f9fd23a22b1985d20c34b9a640cb4472fbb8402"
   }
  }
 },
 "nbformat": 4,
 "nbformat_minor": 2
}
